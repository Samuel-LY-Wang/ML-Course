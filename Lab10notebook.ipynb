{
  "cells": [
    {
      "cell_type": "markdown",
      "metadata": {
        "id": "q58cS9antfCw"
      },
      "source": [
        "## <b>It seems as if this no longer works, since the link to the code has been taken down and now returns a 404</b>\n",
        "\n",
        "#MIT 6.036 Spring 2019: Lab10#\n",
        "\n",
        "This colab notebook runs the companion code for question 3 in MIT 6.036 Lab 10. You can work out your solutions here, then submit your results back on the lab page when ready. If you have not used colab before, ask your partner or a TA for help.\n",
        "\n",
        "## <section>**Setup**</section>\n",
        "\n",
        "First, run the next code block to download and import the code for this lab."
      ]
    },
    {
      "cell_type": "code",
      "execution_count": 3,
      "metadata": {
        "colab": {
          "base_uri": "https://localhost:8080/",
          "height": 419
        },
        "id": "OUEtSZRdtmI2",
        "outputId": "76235cd1-d194-4c48-d1c0-34ebb9840bc9"
      },
      "outputs": [
        {
          "name": "stdout",
          "output_type": "stream",
          "text": [
            "zsh:1: no matches found: code_for_lab10*\n",
            "zsh:1: command not found: wget\n",
            "unzip:  cannot find or open code_for_lab10.zip, code_for_lab10.zip.zip or code_for_lab10.zip.ZIP.\n",
            "zsh:1: no matches found: code_for_lab10/*\n"
          ]
        },
        {
          "ename": "ModuleNotFoundError",
          "evalue": "No module named 'code_for_lab10'",
          "output_type": "error",
          "traceback": [
            "\u001b[0;31m---------------------------------------------------------------------------\u001b[0m",
            "\u001b[0;31mModuleNotFoundError\u001b[0m                       Traceback (most recent call last)",
            "Cell \u001b[0;32mIn[3], line 6\u001b[0m\n\u001b[1;32m      3\u001b[0m get_ipython()\u001b[38;5;241m.\u001b[39msystem(\u001b[38;5;124m'\u001b[39m\u001b[38;5;124munzip code_for_lab10.zip\u001b[39m\u001b[38;5;124m'\u001b[39m)\n\u001b[1;32m      4\u001b[0m get_ipython()\u001b[38;5;241m.\u001b[39msystem(\u001b[38;5;124m'\u001b[39m\u001b[38;5;124mmv code_for_lab10/* .\u001b[39m\u001b[38;5;124m'\u001b[39m)\n\u001b[0;32m----> 6\u001b[0m \u001b[38;5;28;01mfrom\u001b[39;00m\u001b[38;5;250m \u001b[39m\u001b[38;5;21;01mcode_for_lab10\u001b[39;00m\u001b[38;5;250m \u001b[39m\u001b[38;5;28;01mimport\u001b[39;00m \u001b[38;5;241m*\u001b[39m\n\u001b[1;32m      8\u001b[0m \u001b[38;5;28;01mimport\u001b[39;00m\u001b[38;5;250m \u001b[39m\u001b[38;5;21;01mnumpy\u001b[39;00m\u001b[38;5;250m \u001b[39m\u001b[38;5;28;01mas\u001b[39;00m\u001b[38;5;250m \u001b[39m\u001b[38;5;21;01mnp\u001b[39;00m\n\u001b[1;32m      9\u001b[0m \u001b[38;5;28;01mimport\u001b[39;00m\u001b[38;5;250m \u001b[39m\u001b[38;5;21;01mmath\u001b[39;00m\u001b[38;5;250m \u001b[39m\u001b[38;5;28;01mas\u001b[39;00m\u001b[38;5;250m \u001b[39m\u001b[38;5;21;01mm\u001b[39;00m\n",
            "\u001b[0;31mModuleNotFoundError\u001b[0m: No module named 'code_for_lab10'"
          ]
        }
      ],
      "source": [
        "!rm -rf code_for_lab10* __MACOSX data .DS_Store\n",
        "!wget --quiet https://introml_oll.odl.mit.edu/cat-soop/6.036/static/labs/lab10/code_for_lab10.zip\n",
        "!unzip code_for_lab10.zip\n",
        "!mv code_for_lab10/* .\n",
        "\n",
        "from code_for_lab10 import *\n",
        "\n",
        "import numpy as np\n",
        "import math as m\n",
        "import random\n",
        "\n",
        "import importlib\n",
        "import tensorflow"
      ]
    },
    {
      "cell_type": "markdown",
      "metadata": {
        "id": "3Zhptv005XBN"
      },
      "source": [
        "# 3) A Wild Epsilon Chase\n",
        "\n",
        "$\\epsilon$ typically denotes an \"explore vs. exploit\" tradeoff in reinforcement learning, specifically Q-learning algorithm. As a reminder, when a Q-learning algorithm interacts with the environment, it takes a completely random move with probability $\\epsilon$ and the best move according to its current Q-table with probability $1-\\epsilon$.\n",
        "\n",
        "We will try to teach a computer how to play a simple game with a Q-learning algorithm. We will observe how the learning differs based on different values of $\\epsilon$."
      ]
    },
    {
      "cell_type": "markdown",
      "metadata": {
        "id": "cKlbS6ZMv8c8"
      },
      "source": [
        "## 3.1 Expectations\n",
        "\n",
        "Before you move on, write down how you expect the Q-learning algorithm to behave for different values of $\\epsilon$ in the set $\\{0, 0.5, 1\\}$.Think about whether they will ever converge to an optimal Q-value function or policy, and how fast."
      ]
    },
    {
      "cell_type": "markdown",
      "metadata": {
        "id": "3M4mYROqdiGK"
      },
      "source": [
        "## 3.2 Versus Reality"
      ]
    },
    {
      "cell_type": "markdown",
      "metadata": {
        "id": "DFo6mGJvdkct"
      },
      "source": [
        "Once you run the code below wait patiently until you see a yellow and purple square moving around on a teal background.  Ignore everything else for now."
      ]
    },
    {
      "cell_type": "code",
      "execution_count": null,
      "metadata": {
        "id": "MNN6wDVGdncW"
      },
      "outputs": [],
      "source": [
        "try_tabular_batch_q_learning(iters=100)"
      ]
    },
    {
      "cell_type": "markdown",
      "metadata": {
        "id": "-VHQyT54dszA"
      },
      "source": [
        "Click play in the button right below the square. This is a movie of a policy playing the game [No Exit](https://en.wikipedia.org/wiki/No_Exit). It’s kind of like Pong: the purple square is the “ball” and the yellow square is your “paddle”. The actions are to move the paddle up, down, or keep it still.\n",
        "\n",
        "The state is specified by the positions and velocities of the ball and paddle, with a special added “game over” state.\n",
        "\n",
        "The transition model is a very approximate physics model of the ball reflecting off walls and the paddle, except if the ball gets past the paddle in the positive x direction, the game is over.\n",
        "\n",
        "The agent gets a reward of +1 on every step it manages to survive.\n",
        "\n",
        "When watching the game play out, you’ll sometimes see that the purple square gets near the right-hand border and then suddenly it changes to a state with the purple square in the bottom left and the yellow one in the upper right -- this means that the game terminated and then reset to the initial state.\n",
        "\n",
        "Now we can go back and look at the other output in the notebook:\n",
        "\n",
        "* First, we show a table of what happens during learning: after every 10 iterations of batch Q learning, we take the current greedy policy and run it to see what its average score is. This score represents how long the episode ran before the ball ran off the map, or 100 if it lasted for that long.\n",
        "\n",
        "* Next is a plot of the score as a function of the amount of training.\n",
        "\n",
        "* Finally, we run the greedy policy with respect last Q-value function for 10 games and report the rewards achieved on each game. We also make a movie of these 10 games, which is what we started out looking at."
      ]
    },
    {
      "cell_type": "markdown",
      "metadata": {
        "id": "GRwAr3O_wAEM"
      },
      "source": [
        "**3.2)** Run the code given on the notebook for different values of $\\epsilon$ in the set $\\{0, 0.5, 1\\}$. Does your observation match with what you wrote down?\n",
        "\n",
        "Remember that this is a small instance, so sometimes the random noise of the environment might prevent you from seeing any useful information. Run the notebook two or three times if something doesn't line up with your expectation, and then ask for help."
      ]
    },
    {
      "cell_type": "code",
      "execution_count": null,
      "metadata": {
        "id": "Gb1bl_jCWVpY"
      },
      "outputs": [],
      "source": [
        "try_tabular_batch_q_learning(iters=100, eps=0)"
      ]
    },
    {
      "cell_type": "code",
      "execution_count": null,
      "metadata": {
        "id": "aEj9VmCsWc1o"
      },
      "outputs": [],
      "source": [
        "try_tabular_batch_q_learning(iters=100, eps=0.5)"
      ]
    },
    {
      "cell_type": "code",
      "execution_count": null,
      "metadata": {
        "id": "0rL7_Z9sWffh"
      },
      "outputs": [],
      "source": [
        "try_tabular_batch_q_learning(iters=100, eps=1)"
      ]
    },
    {
      "cell_type": "markdown",
      "metadata": {
        "id": "keaYd0d4wG2_"
      },
      "source": [
        "**(Optional)** Once you are done with the check off, play with the number of iterations in the colab until you get all of the models to converge, and then observe the gameplay of the agents. You might expect the model that learned with $\\epsilon = 1$ has a more jittery gameplay than the agent that learned with $\\epsilon=0$ or $0.5$. Does that hold?\n"
      ]
    }
  ],
  "metadata": {
    "colab": {
      "provenance": []
    },
    "kernelspec": {
      "display_name": "tf_keras_env",
      "language": "python",
      "name": "python3"
    },
    "language_info": {
      "codemirror_mode": {
        "name": "ipython",
        "version": 3
      },
      "file_extension": ".py",
      "mimetype": "text/x-python",
      "name": "python",
      "nbconvert_exporter": "python",
      "pygments_lexer": "ipython3",
      "version": "3.10.18"
    }
  },
  "nbformat": 4,
  "nbformat_minor": 0
}
